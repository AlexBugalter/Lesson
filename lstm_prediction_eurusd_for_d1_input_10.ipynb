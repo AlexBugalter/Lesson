{
  "nbformat": 4,
  "nbformat_minor": 0,
  "metadata": {
    "colab": {
      "provenance": [],
      "authorship_tag": "ABX9TyOsUq1wITFotY+QGEHbnaqo",
      "include_colab_link": true
    },
    "kernelspec": {
      "name": "python3",
      "display_name": "Python 3"
    },
    "language_info": {
      "name": "python"
    }
  },
  "cells": [
    {
      "cell_type": "markdown",
      "metadata": {
        "id": "view-in-github",
        "colab_type": "text"
      },
      "source": [
        "<a href=\"https://colab.research.google.com/github/AlexBugalter/Lesson/blob/main/lstm_prediction_eurusd_for_d1_input_10.ipynb\" target=\"_parent\"><img src=\"https://colab.research.google.com/assets/colab-badge.svg\" alt=\"Open In Colab\"/></a>"
      ]
    },
    {
      "cell_type": "markdown",
      "source": [
        "Этот скрипт использует библиотеку TensorFlow для создания и обучения модели LSTM (Long Short-Term Memory) для прогнозирования цен на валютную пару EURUSD на дневных временных интервалах (D1). Модель принимает на вход последовательность из 10 предыдущих баров (открытие, максимум, минимум, закрытие) и пытается предсказать цену закрытия следующего бара.\n",
        "\n",
        "После обучения модель сохраняется в формате ONNX для последующего использования."
      ],
      "metadata": {
        "id": "wMavDOH7trNq"
      }
    },
    {
      "cell_type": "code",
      "source": [
        "!pip install tf2onnx # Эта команда установит tf2onnx из репозитория PyPI."
      ],
      "metadata": {
        "colab": {
          "base_uri": "https://localhost:8080/"
        },
        "id": "3posFc9qxW1T",
        "outputId": "5939efd2-5b9d-4ad7-972d-d6e781a62859"
      },
      "execution_count": null,
      "outputs": [
        {
          "output_type": "stream",
          "name": "stdout",
          "text": [
            "Collecting tf2onnx\n",
            "  Downloading tf2onnx-1.16.1-py3-none-any.whl (455 kB)\n",
            "\u001b[2K     \u001b[90m━━━━━━━━━━━━━━━━━━━━━━━━━━━━━━━━━━━━━━━━\u001b[0m \u001b[32m455.8/455.8 kB\u001b[0m \u001b[31m7.3 MB/s\u001b[0m eta \u001b[36m0:00:00\u001b[0m\n",
            "\u001b[?25hRequirement already satisfied: numpy>=1.14.1 in /usr/local/lib/python3.10/dist-packages (from tf2onnx) (1.25.2)\n",
            "Collecting onnx>=1.4.1 (from tf2onnx)\n",
            "  Downloading onnx-1.15.0-cp310-cp310-manylinux_2_17_x86_64.manylinux2014_x86_64.whl (15.7 MB)\n",
            "\u001b[2K     \u001b[90m━━━━━━━━━━━━━━━━━━━━━━━━━━━━━━━━━━━━━━━━\u001b[0m \u001b[32m15.7/15.7 MB\u001b[0m \u001b[31m40.9 MB/s\u001b[0m eta \u001b[36m0:00:00\u001b[0m\n",
            "\u001b[?25hRequirement already satisfied: requests in /usr/local/lib/python3.10/dist-packages (from tf2onnx) (2.31.0)\n",
            "Requirement already satisfied: six in /usr/local/lib/python3.10/dist-packages (from tf2onnx) (1.16.0)\n",
            "Requirement already satisfied: flatbuffers>=1.12 in /usr/local/lib/python3.10/dist-packages (from tf2onnx) (24.3.7)\n",
            "Requirement already satisfied: protobuf~=3.20 in /usr/local/lib/python3.10/dist-packages (from tf2onnx) (3.20.3)\n",
            "Requirement already satisfied: charset-normalizer<4,>=2 in /usr/local/lib/python3.10/dist-packages (from requests->tf2onnx) (3.3.2)\n",
            "Requirement already satisfied: idna<4,>=2.5 in /usr/local/lib/python3.10/dist-packages (from requests->tf2onnx) (3.6)\n",
            "Requirement already satisfied: urllib3<3,>=1.21.1 in /usr/local/lib/python3.10/dist-packages (from requests->tf2onnx) (2.0.7)\n",
            "Requirement already satisfied: certifi>=2017.4.17 in /usr/local/lib/python3.10/dist-packages (from requests->tf2onnx) (2024.2.2)\n",
            "Installing collected packages: onnx, tf2onnx\n",
            "Successfully installed onnx-1.15.0 tf2onnx-1.16.1\n"
          ]
        }
      ]
    },
    {
      "cell_type": "code",
      "source": [
        "# Импортируем необходимые библиотеки\n",
        "from datetime import datetime\n",
        "import yfinance as yf\n",
        "import tensorflow as tf\n",
        "import numpy as np\n",
        "import pandas as pd\n",
        "import tf2onnx\n",
        "from sklearn.model_selection import train_test_split\n",
        "from tqdm import tqdm\n",
        "from sys import argv"
      ],
      "metadata": {
        "id": "Ap5ZWCQLtxRV"
      },
      "execution_count": null,
      "outputs": []
    },
    {
      "cell_type": "code",
      "execution_count": null,
      "metadata": {
        "colab": {
          "base_uri": "https://localhost:8080/"
        },
        "id": "GDseoWyetql5",
        "outputId": "0ee78bab-e764-4859-e132-cdcba348c153"
      },
      "outputs": [
        {
          "output_type": "stream",
          "name": "stdout",
          "text": [
            "Путь к данным для сохранения onnx модели: \n"
          ]
        }
      ],
      "source": [
        "# Определяем путь для сохранения созданной ONNX модели\n",
        "data_path = argv[0]\n",
        "last_index = data_path.rfind(\"\\\\\") + 1\n",
        "data_path = data_path[0:last_index]\n",
        "print(\"Путь к данным для сохранения onnx модели:\", data_path)"
      ]
    },
    {
      "cell_type": "code",
      "source": [
        "# Входные параметры\n",
        "inp_model_name = \"model.eurusd.D1.10.onnx\"  # Имя файла для сохранения ONNX модели\n",
        "inp_history_size = 10  # Количество предыдущих баров для прогнозирования\n",
        "inp_start_date = datetime(2003, 1, 1, 0)  # Начальная дата для получения данных\n",
        "inp_end_date = datetime(2023, 1, 1, 0)  # Конечная дата для получения данных"
      ],
      "metadata": {
        "id": "eGICYT8Ct4j1"
      },
      "execution_count": null,
      "outputs": []
    },
    {
      "cell_type": "code",
      "source": [
        "# Получаем данные \n",
        "eurusd = yf.download(\"EURUSD=X\", start=inp_start_date, end=inp_end_date, interval=\"1d\")\n",
        "df = eurusd.reset_index()[[\"Date\", \"Open\", \"High\", \"Low\", \"Close\"]]\n",
        "df.columns = [\"time\", \"open\", \"high\", \"low\", \"close\"]\n",
        "# df = pd.DataFrame(eurusd_rates)"
      ],
      "metadata": {
        "colab": {
          "base_uri": "https://localhost:8080/"
        },
        "id": "GYYInvXVt7Rv",
        "outputId": "f4bc8484-4583-4c3b-c13b-259eecda18bb"
      },
      "execution_count": null,
      "outputs": [
        {
          "output_type": "stream",
          "name": "stderr",
          "text": [
            "\r[*********************100%%**********************]  1 of 1 completed\n"
          ]
        }
      ]
    },
    {
      "cell_type": "code",
      "source": [
        "print(\"Длина DataFrame:\", len(df))"
      ],
      "metadata": {
        "colab": {
          "base_uri": "https://localhost:8080/"
        },
        "id": "x268tKX5y7MZ",
        "outputId": "8b8a6daf-8741-46fd-a0c6-2dd63c965238"
      },
      "execution_count": null,
      "outputs": [
        {
          "output_type": "stream",
          "name": "stdout",
          "text": [
            "Длина DataFrame: 4951\n"
          ]
        }
      ]
    },
    {
      "cell_type": "code",
      "source": [
        "# Функция для сбора набора данных\n",
        "def collect_dataset(df: pd.DataFrame, history_size: int):\n",
        "    \"\"\"\n",
        "    Сбор набора данных для последующей задачи регрессии:\n",
        "    - ввод: history_size последовательных баров D1;\n",
        "    - вывод: цена закрытия для следующего бара.\n",
        "\n",
        "    :param df: D1 бары для определенного периода времени\n",
        "    :param history_size: сколько баров следует учитывать для прогнозирования\n",
        "    :return: признаки и метки\n",
        "    \"\"\"\n",
        "    n = len(df)\n",
        "    xs = []\n",
        "    ys = []\n",
        "    for i in tqdm(range(n - history_size + 1)):\n",
        "        if i + history_size < n:\n",
        "            x = df.loc[i:i+history_size-1, ['open', 'high', 'low', 'close']].values\n",
        "            y = df.loc[i+history_size, 'close']\n",
        "            xs.append(x)\n",
        "            ys.append(y)\n",
        "    X = np.array(xs)\n",
        "    y = np.array(ys)\n",
        "    return X, y"
      ],
      "metadata": {
        "id": "TquNQOpXt-Zm"
      },
      "execution_count": null,
      "outputs": []
    },
    {
      "cell_type": "code",
      "source": [
        "# Получаем признаки и метки из набора данных\n",
        "X, y = collect_dataset(df, history_size=inp_history_size)"
      ],
      "metadata": {
        "colab": {
          "base_uri": "https://localhost:8080/"
        },
        "id": "uPPIdjLFuBoF",
        "outputId": "3154e2a5-b53a-4054-a066-97f64900abac"
      },
      "execution_count": null,
      "outputs": [
        {
          "output_type": "stream",
          "name": "stderr",
          "text": [
            "100%|██████████| 4942/4942 [00:04<00:00, 1220.38it/s]\n"
          ]
        }
      ]
    },
    {
      "cell_type": "code",
      "source": [
        "# Нормализуем признаки и метки\n",
        "m = X.mean(axis=1, keepdims=True)\n",
        "s = X.std(axis=1, keepdims=True)\n",
        "X_norm = (X - m) / s\n",
        "y_norm = (y - m[:, 0, 3]) / s[:, 0, 3]"
      ],
      "metadata": {
        "id": "04eMZ-QOuFET"
      },
      "execution_count": null,
      "outputs": []
    },
    {
      "cell_type": "code",
      "source": [
        "# Разделяем данные на обучающий и тестовый наборы\n",
        "X_train, X_test, y_train, y_test = train_test_split(X_norm, y_norm, test_size=0.2, random_state=0)"
      ],
      "metadata": {
        "id": "Nw6iiBR-uIbI"
      },
      "execution_count": null,
      "outputs": []
    },
    {
      "cell_type": "code",
      "source": [
        "# Определяем архитектуру модели\n",
        "model = tf.keras.Sequential([\n",
        "    tf.keras.layers.LSTM(64, input_shape=(inp_history_size, 4)),\n",
        "    tf.keras.layers.BatchNormalization(),\n",
        "    tf.keras.layers.Dropout(0.1),\n",
        "    tf.keras.layers.Dense(32, activation='relu'),\n",
        "    tf.keras.layers.BatchNormalization(),\n",
        "    tf.keras.layers.Dropout(0.1),\n",
        "    tf.keras.layers.Dense(32, activation='relu'),\n",
        "    tf.keras.layers.Dense(1)\n",
        "])\n",
        "\n",
        "# Компилируем модель\n",
        "model.compile(optimizer='adam', loss='mse', metrics=['mae'])"
      ],
      "metadata": {
        "id": "x23x8MT5uLtz"
      },
      "execution_count": null,
      "outputs": []
    },
    {
      "cell_type": "code",
      "source": [
        "# Обучаем модель на 50 эпохах с уменьшением скорости обучения\n",
        "lr_reduction = tf.keras.callbacks.ReduceLROnPlateau(monitor='val_loss', factor=0.1, patience=3, min_lr=0.000001)\n",
        "history = model.fit(X_train, y_train, epochs=50, verbose=2, validation_split=0.15, callbacks=[lr_reduction])"
      ],
      "metadata": {
        "colab": {
          "base_uri": "https://localhost:8080/"
        },
        "id": "IlLtqQB4uOhl",
        "outputId": "9e96dcf9-3fbd-4e75-c1c6-23e525ebb48e"
      },
      "execution_count": null,
      "outputs": [
        {
          "output_type": "stream",
          "name": "stdout",
          "text": [
            "Epoch 1/50\n",
            "105/105 - 5s - loss: 1.6473 - mae: 0.9215 - val_loss: 2.3919 - val_mae: 1.2421 - lr: 0.0010 - 5s/epoch - 50ms/step\n",
            "Epoch 2/50\n",
            "105/105 - 1s - loss: 1.2598 - mae: 0.7903 - val_loss: 2.2294 - val_mae: 1.1829 - lr: 0.0010 - 894ms/epoch - 9ms/step\n",
            "Epoch 3/50\n",
            "105/105 - 1s - loss: 1.1897 - mae: 0.7590 - val_loss: 1.8157 - val_mae: 1.0308 - lr: 0.0010 - 1s/epoch - 10ms/step\n",
            "Epoch 4/50\n",
            "105/105 - 1s - loss: 1.1058 - mae: 0.7267 - val_loss: 1.4077 - val_mae: 0.8791 - lr: 0.0010 - 971ms/epoch - 9ms/step\n",
            "Epoch 5/50\n",
            "105/105 - 1s - loss: 1.1146 - mae: 0.7343 - val_loss: 1.0899 - val_mae: 0.7230 - lr: 0.0010 - 1s/epoch - 12ms/step\n",
            "Epoch 6/50\n",
            "105/105 - 1s - loss: 1.0918 - mae: 0.7236 - val_loss: 1.0022 - val_mae: 0.6902 - lr: 0.0010 - 1s/epoch - 11ms/step\n",
            "Epoch 7/50\n",
            "105/105 - 1s - loss: 1.1180 - mae: 0.7299 - val_loss: 1.0276 - val_mae: 0.6984 - lr: 0.0010 - 970ms/epoch - 9ms/step\n",
            "Epoch 8/50\n",
            "105/105 - 1s - loss: 1.0625 - mae: 0.7080 - val_loss: 0.9507 - val_mae: 0.6629 - lr: 0.0010 - 970ms/epoch - 9ms/step\n",
            "Epoch 9/50\n",
            "105/105 - 1s - loss: 1.0376 - mae: 0.6937 - val_loss: 0.9602 - val_mae: 0.6614 - lr: 0.0010 - 877ms/epoch - 8ms/step\n",
            "Epoch 10/50\n",
            "105/105 - 1s - loss: 1.0370 - mae: 0.6975 - val_loss: 0.9228 - val_mae: 0.6471 - lr: 0.0010 - 880ms/epoch - 8ms/step\n",
            "Epoch 11/50\n",
            "105/105 - 1s - loss: 1.0401 - mae: 0.7011 - val_loss: 0.9271 - val_mae: 0.6405 - lr: 0.0010 - 950ms/epoch - 9ms/step\n",
            "Epoch 12/50\n",
            "105/105 - 1s - loss: 1.0384 - mae: 0.6972 - val_loss: 0.9094 - val_mae: 0.6384 - lr: 0.0010 - 963ms/epoch - 9ms/step\n",
            "Epoch 13/50\n",
            "105/105 - 1s - loss: 1.0240 - mae: 0.6861 - val_loss: 0.9399 - val_mae: 0.6677 - lr: 0.0010 - 881ms/epoch - 8ms/step\n",
            "Epoch 14/50\n",
            "105/105 - 1s - loss: 1.0444 - mae: 0.7067 - val_loss: 0.9330 - val_mae: 0.6422 - lr: 0.0010 - 907ms/epoch - 9ms/step\n",
            "Epoch 15/50\n",
            "105/105 - 1s - loss: 1.0415 - mae: 0.7006 - val_loss: 0.9259 - val_mae: 0.6478 - lr: 0.0010 - 894ms/epoch - 9ms/step\n",
            "Epoch 16/50\n",
            "105/105 - 1s - loss: 0.9990 - mae: 0.6822 - val_loss: 0.9052 - val_mae: 0.6265 - lr: 1.0000e-04 - 937ms/epoch - 9ms/step\n",
            "Epoch 17/50\n",
            "105/105 - 1s - loss: 0.9743 - mae: 0.6756 - val_loss: 0.9063 - val_mae: 0.6234 - lr: 1.0000e-04 - 1s/epoch - 11ms/step\n",
            "Epoch 18/50\n",
            "105/105 - 1s - loss: 0.9845 - mae: 0.6779 - val_loss: 0.9034 - val_mae: 0.6248 - lr: 1.0000e-04 - 1s/epoch - 13ms/step\n",
            "Epoch 19/50\n",
            "105/105 - 1s - loss: 0.9628 - mae: 0.6725 - val_loss: 0.9064 - val_mae: 0.6255 - lr: 1.0000e-04 - 870ms/epoch - 8ms/step\n",
            "Epoch 20/50\n",
            "105/105 - 1s - loss: 0.9741 - mae: 0.6710 - val_loss: 0.8973 - val_mae: 0.6212 - lr: 1.0000e-04 - 925ms/epoch - 9ms/step\n",
            "Epoch 21/50\n",
            "105/105 - 1s - loss: 0.9844 - mae: 0.6728 - val_loss: 0.8976 - val_mae: 0.6244 - lr: 1.0000e-04 - 844ms/epoch - 8ms/step\n",
            "Epoch 22/50\n",
            "105/105 - 1s - loss: 0.9756 - mae: 0.6726 - val_loss: 0.8942 - val_mae: 0.6221 - lr: 1.0000e-04 - 841ms/epoch - 8ms/step\n",
            "Epoch 23/50\n",
            "105/105 - 1s - loss: 0.9727 - mae: 0.6682 - val_loss: 0.9007 - val_mae: 0.6268 - lr: 1.0000e-04 - 937ms/epoch - 9ms/step\n",
            "Epoch 24/50\n",
            "105/105 - 1s - loss: 0.9614 - mae: 0.6656 - val_loss: 0.9044 - val_mae: 0.6314 - lr: 1.0000e-04 - 964ms/epoch - 9ms/step\n",
            "Epoch 25/50\n",
            "105/105 - 1s - loss: 0.9491 - mae: 0.6603 - val_loss: 0.8990 - val_mae: 0.6270 - lr: 1.0000e-04 - 984ms/epoch - 9ms/step\n",
            "Epoch 26/50\n",
            "105/105 - 1s - loss: 0.9622 - mae: 0.6664 - val_loss: 0.9023 - val_mae: 0.6260 - lr: 1.0000e-05 - 940ms/epoch - 9ms/step\n",
            "Epoch 27/50\n",
            "105/105 - 1s - loss: 0.9456 - mae: 0.6667 - val_loss: 0.9043 - val_mae: 0.6261 - lr: 1.0000e-05 - 875ms/epoch - 8ms/step\n",
            "Epoch 28/50\n",
            "105/105 - 1s - loss: 0.9691 - mae: 0.6681 - val_loss: 0.9049 - val_mae: 0.6257 - lr: 1.0000e-05 - 935ms/epoch - 9ms/step\n",
            "Epoch 29/50\n",
            "105/105 - 1s - loss: 0.9701 - mae: 0.6673 - val_loss: 0.9051 - val_mae: 0.6262 - lr: 1.0000e-06 - 954ms/epoch - 9ms/step\n",
            "Epoch 30/50\n",
            "105/105 - 1s - loss: 0.9563 - mae: 0.6642 - val_loss: 0.9045 - val_mae: 0.6260 - lr: 1.0000e-06 - 1s/epoch - 12ms/step\n",
            "Epoch 31/50\n",
            "105/105 - 1s - loss: 0.9559 - mae: 0.6661 - val_loss: 0.9046 - val_mae: 0.6260 - lr: 1.0000e-06 - 1s/epoch - 12ms/step\n",
            "Epoch 32/50\n",
            "105/105 - 1s - loss: 0.9553 - mae: 0.6657 - val_loss: 0.9047 - val_mae: 0.6257 - lr: 1.0000e-06 - 868ms/epoch - 8ms/step\n",
            "Epoch 33/50\n",
            "105/105 - 1s - loss: 0.9629 - mae: 0.6728 - val_loss: 0.9050 - val_mae: 0.6263 - lr: 1.0000e-06 - 854ms/epoch - 8ms/step\n",
            "Epoch 34/50\n",
            "105/105 - 1s - loss: 0.9617 - mae: 0.6649 - val_loss: 0.9057 - val_mae: 0.6265 - lr: 1.0000e-06 - 842ms/epoch - 8ms/step\n",
            "Epoch 35/50\n",
            "105/105 - 1s - loss: 0.9468 - mae: 0.6599 - val_loss: 0.9059 - val_mae: 0.6265 - lr: 1.0000e-06 - 857ms/epoch - 8ms/step\n",
            "Epoch 36/50\n",
            "105/105 - 1s - loss: 0.9681 - mae: 0.6745 - val_loss: 0.9063 - val_mae: 0.6264 - lr: 1.0000e-06 - 880ms/epoch - 8ms/step\n",
            "Epoch 37/50\n",
            "105/105 - 1s - loss: 0.9623 - mae: 0.6707 - val_loss: 0.9061 - val_mae: 0.6262 - lr: 1.0000e-06 - 947ms/epoch - 9ms/step\n",
            "Epoch 38/50\n",
            "105/105 - 1s - loss: 0.9585 - mae: 0.6692 - val_loss: 0.9056 - val_mae: 0.6263 - lr: 1.0000e-06 - 936ms/epoch - 9ms/step\n",
            "Epoch 39/50\n",
            "105/105 - 1s - loss: 0.9736 - mae: 0.6673 - val_loss: 0.9055 - val_mae: 0.6263 - lr: 1.0000e-06 - 841ms/epoch - 8ms/step\n",
            "Epoch 40/50\n",
            "105/105 - 1s - loss: 0.9573 - mae: 0.6624 - val_loss: 0.9052 - val_mae: 0.6260 - lr: 1.0000e-06 - 859ms/epoch - 8ms/step\n",
            "Epoch 41/50\n",
            "105/105 - 1s - loss: 0.9559 - mae: 0.6638 - val_loss: 0.9050 - val_mae: 0.6259 - lr: 1.0000e-06 - 934ms/epoch - 9ms/step\n",
            "Epoch 42/50\n",
            "105/105 - 1s - loss: 0.9692 - mae: 0.6757 - val_loss: 0.9057 - val_mae: 0.6259 - lr: 1.0000e-06 - 921ms/epoch - 9ms/step\n",
            "Epoch 43/50\n",
            "105/105 - 1s - loss: 0.9713 - mae: 0.6709 - val_loss: 0.9046 - val_mae: 0.6258 - lr: 1.0000e-06 - 1s/epoch - 13ms/step\n",
            "Epoch 44/50\n",
            "105/105 - 1s - loss: 0.9761 - mae: 0.6696 - val_loss: 0.9041 - val_mae: 0.6261 - lr: 1.0000e-06 - 1s/epoch - 11ms/step\n",
            "Epoch 45/50\n",
            "105/105 - 1s - loss: 0.9693 - mae: 0.6711 - val_loss: 0.9051 - val_mae: 0.6261 - lr: 1.0000e-06 - 946ms/epoch - 9ms/step\n",
            "Epoch 46/50\n",
            "105/105 - 1s - loss: 0.9704 - mae: 0.6707 - val_loss: 0.9055 - val_mae: 0.6257 - lr: 1.0000e-06 - 959ms/epoch - 9ms/step\n",
            "Epoch 47/50\n",
            "105/105 - 1s - loss: 0.9864 - mae: 0.6778 - val_loss: 0.9066 - val_mae: 0.6263 - lr: 1.0000e-06 - 854ms/epoch - 8ms/step\n",
            "Epoch 48/50\n",
            "105/105 - 1s - loss: 0.9727 - mae: 0.6713 - val_loss: 0.9054 - val_mae: 0.6263 - lr: 1.0000e-06 - 891ms/epoch - 8ms/step\n",
            "Epoch 49/50\n",
            "105/105 - 1s - loss: 0.9306 - mae: 0.6580 - val_loss: 0.9052 - val_mae: 0.6258 - lr: 1.0000e-06 - 897ms/epoch - 9ms/step\n",
            "Epoch 50/50\n",
            "105/105 - 1s - loss: 0.9553 - mae: 0.6627 - val_loss: 0.9049 - val_mae: 0.6256 - lr: 1.0000e-06 - 874ms/epoch - 8ms/step\n"
          ]
        }
      ]
    },
    {
      "cell_type": "code",
      "source": [
        "# Оцениваем модель на тестовом наборе\n",
        "test_loss, test_mae = model.evaluate(X_test, y_test)\n",
        "print(f\"test_loss={test_loss:.3f}\")\n",
        "print(f\"test_mae={test_mae:.3f}\")"
      ],
      "metadata": {
        "colab": {
          "base_uri": "https://localhost:8080/"
        },
        "id": "_HSzmT-UuReR",
        "outputId": "ce570d68-7dcb-4971-de86-3321b543cdc5"
      },
      "execution_count": null,
      "outputs": [
        {
          "output_type": "stream",
          "name": "stdout",
          "text": [
            "31/31 [==============================] - 0s 6ms/step - loss: 0.8971 - mae: 0.6205\n",
            "test_loss=0.897\n",
            "test_mae=0.621\n"
          ]
        }
      ]
    },
    {
      "cell_type": "code",
      "source": [
        "# Сохраняем модель в формате ONNX\n",
        "output_path = data_path + inp_model_name\n",
        "onnx_model = tf2onnx.convert.from_keras(model, output_path=output_path)\n",
        "print(f\"Сохраненная модель в {output_path}\")"
      ],
      "metadata": {
        "colab": {
          "base_uri": "https://localhost:8080/"
        },
        "id": "tO0aDnWouVNQ",
        "outputId": "02e54837-7b37-4fd4-a374-715168ea0a54"
      },
      "execution_count": null,
      "outputs": [
        {
          "output_type": "stream",
          "name": "stdout",
          "text": [
            "Сохраненная модель в model.eurusd.D1.10.onnx\n"
          ]
        }
      ]
    }
  ]
}
