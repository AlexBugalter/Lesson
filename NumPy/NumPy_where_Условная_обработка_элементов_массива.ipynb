{
  "nbformat": 4,
  "nbformat_minor": 0,
  "metadata": {
    "colab": {
      "provenance": [],
      "authorship_tag": "ABX9TyPLy8lMeFldsHMrSLypy0qz",
      "include_colab_link": true
    },
    "kernelspec": {
      "name": "python3",
      "display_name": "Python 3"
    },
    "language_info": {
      "name": "python"
    }
  },
  "cells": [
    {
      "cell_type": "markdown",
      "metadata": {
        "id": "view-in-github",
        "colab_type": "text"
      },
      "source": [
        "<a href=\"https://colab.research.google.com/github/AlexBugalter/Lesson/blob/main/NumPy/NumPy_where_%D0%A3%D1%81%D0%BB%D0%BE%D0%B2%D0%BD%D0%B0%D1%8F_%D0%BE%D0%B1%D1%80%D0%B0%D0%B1%D0%BE%D1%82%D0%BA%D0%B0_%D1%8D%D0%BB%D0%B5%D0%BC%D0%B5%D0%BD%D1%82%D0%BE%D0%B2_%D0%BC%D0%B0%D1%81%D1%81%D0%B8%D0%B2%D0%B0.ipynb\" target=\"_parent\"><img src=\"https://colab.research.google.com/assets/colab-badge.svg\" alt=\"Open In Colab\"/></a>"
      ]
    },
    {
      "cell_type": "markdown",
      "source": [
        "## Использование np.where() для замены элементов в массиве NumPy"
      ],
      "metadata": {
        "id": "DrOeuXmCVlv3"
      }
    },
    {
      "cell_type": "markdown",
      "source": [
        "Этот код заменяет элементы в массиве arr на 'Met', если они больше 5, и на 'Not Met' в противном случае, и сохраняет результат в переменной replaced."
      ],
      "metadata": {
        "id": "vtP3SPQpYbFx"
      }
    },
    {
      "cell_type": "code",
      "execution_count": 1,
      "metadata": {
        "colab": {
          "base_uri": "https://localhost:8080/"
        },
        "id": "OK95ASpIVeDs",
        "outputId": "9d46da10-fd22-40ec-cd5b-58d123ffd35f"
      },
      "outputs": [
        {
          "output_type": "stream",
          "name": "stdout",
          "text": [
            "['Not Met' 'Not Met' 'Not Met' 'Not Met' 'Not Met' 'Met' 'Met' 'Met' 'Met'\n",
            " 'Met']\n"
          ]
        }
      ],
      "source": [
        "# Использование np.where() для замены элементов в массиве\n",
        "import numpy as np\n",
        "\n",
        "arr = np.array([1, 2, 3, 4, 5, 6, 7, 8, 9, 10])\n",
        "replaced = np.where(arr > 5, 'Met', 'Not Met')\n",
        "print(replaced)"
      ]
    },
    {
      "cell_type": "markdown",
      "source": [
        "Аналогично, мы можем использовать массивы в качестве наших выборок. Например, если вы хотите вернуть исходный массив, если условие выполнено, или другое значение, вы можете написать следующее:"
      ],
      "metadata": {
        "id": "kxHYLKc3W6xp"
      }
    },
    {
      "cell_type": "code",
      "source": [
        "# Использование np.where() для замены элементов в массиве другими значениями из массива\n",
        "arr = np.array([1, 2, 3, 4, 5, 6, 7, 8, 9, 10])\n",
        "replaced = np.where(arr > 5, arr, -1)\n",
        "print(replaced)"
      ],
      "metadata": {
        "colab": {
          "base_uri": "https://localhost:8080/"
        },
        "id": "m7hP5TaVV1H6",
        "outputId": "941876b5-efb9-470d-9a8f-c623b6218330"
      },
      "execution_count": 2,
      "outputs": [
        {
          "output_type": "stream",
          "name": "stdout",
          "text": [
            "[-1 -1 -1 -1 -1  6  7  8  9 10]\n"
          ]
        }
      ]
    },
    {
      "cell_type": "markdown",
      "source": [
        "## Использование np.where() для обработки элементов массива NumPy"
      ],
      "metadata": {
        "id": "vY8sC_70V6TT"
      }
    },
    {
      "cell_type": "markdown",
      "source": [
        "Этот код умножает на 10 элементы массива arr, которые четные, и делит на 10 элементы, которые нечетные, и сохраняет результат в переменной replaced."
      ],
      "metadata": {
        "id": "SLhfgv-4XOml"
      }
    },
    {
      "cell_type": "code",
      "source": [
        "# Использование np.where() для обработки элементов в массиве\n",
        "arr = np.array([1, 2, 3, 4, 5, 6, 7, 8, 9, 10])\n",
        "replaced = np.where(arr % 2 == 0, arr * 10, arr / 10)\n",
        "print(replaced)"
      ],
      "metadata": {
        "colab": {
          "base_uri": "https://localhost:8080/"
        },
        "id": "XQeX4blMV91n",
        "outputId": "74bda3f3-db41-49ec-ff18-70a6156ce161"
      },
      "execution_count": 4,
      "outputs": [
        {
          "output_type": "stream",
          "name": "stdout",
          "text": [
            "[  0.1  20.    0.3  40.    0.5  60.    0.7  80.    0.9 100. ]\n"
          ]
        }
      ]
    },
    {
      "cell_type": "markdown",
      "source": [
        "Допустим, у нас есть список значений, которые идентифицируют объект как квадрат или круг. У нас также есть массив, который содержит либо радиус круга, либо длину стороны квадрата. Мы можем использовать функцию np.where() для возврата массива площадей, как показано ниже:"
      ],
      "metadata": {
        "id": "9N7TMlaAXaA8"
      }
    },
    {
      "cell_type": "code",
      "source": [
        "types = ['square', 'circle', 'square', 'circle', 'circle', 'square']\n",
        "arr = np.array([2.3, 3.4, 1.2, 5.4, 3.2, 1.1])\n",
        "areas = np.where(types == 'square', arr ** 2, np.pi * arr ** 2)\n",
        "print(areas)"
      ],
      "metadata": {
        "colab": {
          "base_uri": "https://localhost:8080/"
        },
        "id": "-C0z1xENWG0V",
        "outputId": "69a0efd9-2d45-472c-d0ef-3e46ad33347c"
      },
      "execution_count": 3,
      "outputs": [
        {
          "output_type": "stream",
          "name": "stdout",
          "text": [
            "[16.61902514 36.31681108  4.52389342 91.60884178 32.16990877  3.80132711]\n"
          ]
        }
      ]
    },
    {
      "cell_type": "markdown",
      "source": [
        "Этот код вычисляет площадь для каждой фигуры в массиве arr, где тип фигуры равен 'square', используя формулу сторона ** 2, а для фигур типа 'circle', используется формула pi * радиус ** 2, и сохраняет результат в переменной areas."
      ],
      "metadata": {
        "id": "aWXOdhCOXcUF"
      }
    },
    {
      "cell_type": "markdown",
      "source": [
        "## Использование np.where() с несколькими условиями"
      ],
      "metadata": {
        "id": "IT9PF_78WSpt"
      }
    },
    {
      "cell_type": "markdown",
      "source": [
        "Этот код создает новый массив filtered, в котором значения из массива arr сохраняются, если они четные и больше 5, иначе они заменяются на 0."
      ],
      "metadata": {
        "id": "CDhcwei7X_mq"
      }
    },
    {
      "cell_type": "code",
      "source": [
        "arr = np.arange(10)\n",
        "\n",
        "filtered = np.where((arr % 2 == 0) & (arr > 5), arr, 0)\n",
        "print(filtered)"
      ],
      "metadata": {
        "colab": {
          "base_uri": "https://localhost:8080/"
        },
        "id": "IckE9tY0WU5o",
        "outputId": "edef5516-6356-41f3-d2c8-2b93fa5e0887"
      },
      "execution_count": 5,
      "outputs": [
        {
          "output_type": "stream",
          "name": "stdout",
          "text": [
            "[0 0 0 0 0 0 6 0 8 0]\n"
          ]
        }
      ]
    },
    {
      "cell_type": "markdown",
      "source": [
        "Мы также можем выбирать элементы, если выполнено хотя бы одно из условий, используя оператор |. Давайте посмотрим, как это выглядит:"
      ],
      "metadata": {
        "id": "iHOMEZPEWded"
      }
    },
    {
      "cell_type": "code",
      "source": [
        "arr = np.arange(10)\n",
        "\n",
        "filtered = np.where((arr % 2 == 0) | (arr > 5), arr, 0)\n",
        "print(filtered)"
      ],
      "metadata": {
        "colab": {
          "base_uri": "https://localhost:8080/"
        },
        "id": "mUPvxSBdWePD",
        "outputId": "ecf8492a-153c-4b91-c8e2-fe1e22939f49"
      },
      "execution_count": 6,
      "outputs": [
        {
          "output_type": "stream",
          "name": "stdout",
          "text": [
            "[0 0 2 0 4 0 6 7 8 9]\n"
          ]
        }
      ]
    },
    {
      "cell_type": "markdown",
      "source": [
        "## Использование np.where() с несколькими измерениями"
      ],
      "metadata": {
        "id": "3ZT-MMVvWkW_"
      }
    },
    {
      "cell_type": "markdown",
      "source": [
        "Этот код создает новую матрицу, где значения из исходной матрицы arr сохраняются, если они четные, иначе они заменяются на -1."
      ],
      "metadata": {
        "id": "2YewJpjQYJdv"
      }
    },
    {
      "cell_type": "code",
      "source": [
        "arr = np.arange(9).reshape(3, 3)\n",
        "\n",
        "filtered = np.where(arr % 2 == 0, arr, -1)\n",
        "print(filtered)"
      ],
      "metadata": {
        "colab": {
          "base_uri": "https://localhost:8080/"
        },
        "id": "rw1jmiUuWlV3",
        "outputId": "f21860f6-c1e7-43d4-815a-e4a66da7a952"
      },
      "execution_count": 7,
      "outputs": [
        {
          "output_type": "stream",
          "name": "stdout",
          "text": [
            "[[ 0 -1  2]\n",
            " [-1  4 -1]\n",
            " [ 6 -1  8]]\n"
          ]
        }
      ]
    },
    {
      "cell_type": "markdown",
      "source": [
        "## Использование np.where() для возврата индексов, в которых выполняется условие"
      ],
      "metadata": {
        "id": "G9lEHur0WrUV"
      }
    },
    {
      "cell_type": "markdown",
      "source": [
        "Этот код возвращает индексы элементов массива arr, для которых условие остатка от деления на 2 равно 0."
      ],
      "metadata": {
        "id": "GlQFdcBqYOjU"
      }
    },
    {
      "cell_type": "code",
      "source": [
        "arr = np.arange(9)\n",
        "\n",
        "idx = np.where(arr % 2 == 0)\n",
        "print(idx)"
      ],
      "metadata": {
        "colab": {
          "base_uri": "https://localhost:8080/"
        },
        "id": "DZLzV0i3WsNW",
        "outputId": "bc33eb09-8dbe-4595-fda9-98a6c14e3ee0"
      },
      "execution_count": 8,
      "outputs": [
        {
          "output_type": "stream",
          "name": "stdout",
          "text": [
            "(array([0, 2, 4, 6, 8]),)\n"
          ]
        }
      ]
    }
  ]
}