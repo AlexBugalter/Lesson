{
  "nbformat": 4,
  "nbformat_minor": 0,
  "metadata": {
    "colab": {
      "provenance": [],
      "collapsed_sections": [
        "J5EqMHiyfXza",
        "wt0Gn7pIicHT",
        "tWtAG4Nj-SDa",
        "cS-B9HBC-Lge",
        "Ml3wh1OgVODv",
        "HavkrPC9V346",
        "cSkk5Pz4WjTF",
        "pHcDvlUkaMUD",
        "aXDQeVyYbK63",
        "iD9YXXLMbwKd",
        "vdYgxPRrfzts",
        "V1Mu_PeDcuo8",
        "B0iauZOJhEH9",
        "FxbHoQ5whwhN",
        "edwS3ruTikBf",
        "Fb0pYcTAjf9l",
        "sad1nB30pKrK",
        "diryjuZ8qAww",
        "AmSEL6BKrQpW",
        "S3CSCwuyr7IB",
        "oy4zKugjs_kP",
        "fLt4loUOt3A_",
        "kavnU5JK1yER",
        "lRdwbLT46jdn",
        "SopYWdjN7SPB",
        "xK1QyEDs7wHH",
        "2RGYqzH799Yu",
        "AuuUujxU-2k3",
        "j8d2QUwOAi8U",
        "rsoUuAlKAvcq",
        "9jqJMUmFB5L_",
        "1RGDGLpsCv-M",
        "aB4gVYbqDenr",
        "DztILhYKD8rV"
      ],
      "toc_visible": true,
      "authorship_tag": "ABX9TyNIlZWPsf4JRLa2/te37A6G",
      "include_colab_link": true
    },
    "kernelspec": {
      "name": "python3",
      "display_name": "Python 3"
    },
    "language_info": {
      "name": "python"
    }
  },
  "cells": [
    {
      "cell_type": "markdown",
      "metadata": {
        "id": "view-in-github",
        "colab_type": "text"
      },
      "source": [
        "<a href=\"https://colab.research.google.com/github/AlexBugalter/Lesson/blob/main/Quiz.ipynb\" target=\"_parent\"><img src=\"https://colab.research.google.com/assets/colab-badge.svg\" alt=\"Open In Colab\"/></a>"
      ]
    },
    {
      "cell_type": "markdown",
      "source": [
        "# *Тема урока:* Множества (Sets)."
      ],
      "metadata": {
        "id": "J5EqMHiyfXza"
      }
    },
    {
      "cell_type": "markdown",
      "source": [
        "**Что выведет код?**\n",
        "1.   ***banana***\n",
        "2.   ***apply***\n",
        "3.   ***6***\n",
        "4.   ***3***\n",
        "5.   ***Ошибка***\n",
        "\n",
        "**Описание кода:**\n",
        "Данный код написан на языке программирования Python и использует множества ***(Sets)***. Он создает множество ***x*** с элементами \"***apple***\", \"***banana***\" и \"***cherry***\", затем использует функцию ***len()*** для определения количества элементов в множестве и выводит результат."
      ],
      "metadata": {
        "id": "IldUgoFx9Dqu"
      }
    },
    {
      "cell_type": "code",
      "execution_count": null,
      "metadata": {
        "id": "SCmOGuTh6tbp"
      },
      "outputs": [],
      "source": [
        "x = {\"apple\", \"banana\", \"cherry\"}\n",
        "y = len(x)\n",
        "print(y)"
      ]
    },
    {
      "cell_type": "markdown",
      "source": [
        "# Тема урока: Списки (Lists) и их копирование."
      ],
      "metadata": {
        "id": "wt0Gn7pIicHT"
      }
    },
    {
      "cell_type": "markdown",
      "source": [
        "**Что выведет код?**\n",
        "1.   ***0***\n",
        "2.   ***1***\n",
        "3.   ***2***\n",
        "4.   ***Ошибку***\n",
        "\n",
        "**Описание кода:**\n",
        "Данный код создает список ***x*** с элементами ***1, 2*** и ***3***, затем создает копию этого списка y с помощью метода ***copy()***. После этого изменяет значение первого элемента в списке **y** на ***0***и выводит первый элемент списка ***x***.\n"
      ],
      "metadata": {
        "id": "UAwCGnOs8KYD"
      }
    },
    {
      "cell_type": "code",
      "source": [
        "x = [1, 2, 3]\n",
        "y = x.copy()\n",
        "\n",
        "y[0] = 0\n",
        "print(x[0])"
      ],
      "metadata": {
        "id": "TQV8pspk8fiX"
      },
      "execution_count": null,
      "outputs": []
    },
    {
      "cell_type": "markdown",
      "source": [
        "# Тема урока: Работа с срезами и копирование списков."
      ],
      "metadata": {
        "id": "tWtAG4Nj-SDa"
      }
    },
    {
      "cell_type": "markdown",
      "source": [
        " Что выведет код?\n",
        "1.   ***1, 2, 3, 4, 5***\n",
        "2.   ***0, 2, 3, 4, 5***\n",
        "3.   ***5, 4, 3, 2, 1***\n",
        "4.   ***1, 2, 3, 4, 6***\n",
        "\n",
        "**Описание работы кода:**\n",
        "Всё начинается с создания списка ***x*** с пятью элементами. Затем создаются два различных среза: ***y***, который содержит элементы с индексами от ***1*** до ***2*** (не включительно), и ***z***, который является полной копией списка ***x***. Далее изменяется первый элемент среза **y** на ***0***, и последний элемент списка ***z*** на ***6***. Наконец, выводится список ***x***."
      ],
      "metadata": {
        "id": "1Bb7jtBx9IZk"
      }
    },
    {
      "cell_type": "code",
      "source": [
        "x = [1, 2, 3, 4, 5]\n",
        "y = x[1:3]\n",
        "z = x[:]\n",
        "y[0] = 0\n",
        "z[4] = 6\n",
        "print(x)"
      ],
      "metadata": {
        "id": "xY_5eSyy9iND"
      },
      "execution_count": null,
      "outputs": []
    },
    {
      "cell_type": "markdown",
      "source": [
        "# Тема урока: Работа с операциями добавления, удаления и изменения элементов в словарях Python."
      ],
      "metadata": {
        "id": "cS-B9HBC-Lge"
      }
    },
    {
      "cell_type": "markdown",
      "source": [
        "**Что выведет код?**\n",
        "1.   ***2***\n",
        "2.   ***1***\n",
        "3.   ***0***\n",
        "4.   ***3***\n",
        "5.   ***Ошибку***\n",
        "\n",
        "**Описание работы кода:**\n",
        "Сначала создается словарь ***test*** с тремя элементами, где ключи - это целые числа, а значения - это буквы ***A, B*** и ***C***. Затем удаляется элемент с ключом ***1*** из словаря, и вместо него добавляется новый элемент с ключом ***1*** и значением '***D***'. Затем удаляется элемент с ключом ***2***. Наконец, выводится длина словаря ***test***."
      ],
      "metadata": {
        "id": "uA1cL2VG-W6V"
      }
    },
    {
      "cell_type": "code",
      "source": [
        "test = {1:'A', 2:'B', 3:'C'}\n",
        "del test[1]\n",
        "test[1] = 'D'\n",
        "del test[2]\n",
        "print(len(test))"
      ],
      "metadata": {
        "id": "kM_smFdN-nWJ"
      },
      "execution_count": null,
      "outputs": []
    },
    {
      "cell_type": "markdown",
      "source": [
        "# Тема урока: Работа с операциями добавления, изменения и доступа к элементам в словарях Python."
      ],
      "metadata": {
        "id": "Ml3wh1OgVODv"
      }
    },
    {
      "cell_type": "markdown",
      "source": [
        "**Что выведет код?**\n",
        "\n",
        "\n",
        "1.   ***1***\n",
        "2.   ***2***\n",
        "3.   ***3***\n",
        "4.   ***4***\n",
        "5.   ***Ошибку***\n",
        "\n",
        "**Описание работы кода:**\n",
        "Данный код демонстрирует различные операции с элементами словаря в Python. Вначале создается пустой словарь ***a***. Затем добавляются элементы в словарь: с ключом 1 и значением ***1***, с ключом '***1***' и значением ***2***. После этого значение элемента с ключом ***1*** изменяется на результат сложения его текущего значения и **1**. Затем производится подсчет суммы всех значений в словаре, которая выводится в конце.\n"
      ],
      "metadata": {
        "id": "IrpnwglK_r6b"
      }
    },
    {
      "cell_type": "code",
      "source": [
        "a = {}\n",
        "a[1] = 1\n",
        "a['1'] = 2\n",
        "a[1] = a[1]+1\n",
        "count = 0\n",
        "for i in a:\n",
        "  count += a[i]\n",
        "print(count)"
      ],
      "metadata": {
        "id": "GPT4ZLqE_555"
      },
      "execution_count": null,
      "outputs": []
    },
    {
      "cell_type": "markdown",
      "source": [
        "# Тема урока: Локальные, нелинейные и глобальные переменные в Python."
      ],
      "metadata": {
        "id": "HavkrPC9V346"
      }
    },
    {
      "cell_type": "markdown",
      "source": [
        "**Что выведет код?**\n",
        "\n",
        "1.   ***local***\n",
        "2.   ***nonlocal***\n",
        "3.   ***global***\n",
        "4.   ***Ошибку***\n",
        "\n",
        "**Описание работы кода:**\n",
        "Этот код демонстрирует работу с локальными и нелинейными переменными во вложенных функциях Python. Внутри функции ***outer()*** создается локальная переменная ***x*** со значением \"***local***\". Затем определяется внутренняя функция ***inner()***, в которой переменная x помечается как ***nonlocal*** и ей присваивается значение \"***nonlocal***\". Затем функция ***inner()*** вызывается, и в результате изменения переменной x внутри ***inner()***, она также изменяется и в функции ***outer()***. Наконец, значение переменной x в функции ***outer()*** выводится на экран."
      ],
      "metadata": {
        "id": "S_fO322DAiOi"
      }
    },
    {
      "cell_type": "code",
      "source": [
        "def outer():\n",
        "  x = \"local\"\n",
        "  def inner():\n",
        "    nonlocal x\n",
        "    x = \"nonlocal\"\n",
        "  inner()\n",
        "  print(x)\n",
        "outer()"
      ],
      "metadata": {
        "id": "stObjrgMAyhm"
      },
      "execution_count": null,
      "outputs": []
    },
    {
      "cell_type": "markdown",
      "source": [
        "# Тема урока: Списковые включения (List Comprehensions) в Python."
      ],
      "metadata": {
        "id": "cSkk5Pz4WjTF"
      }
    },
    {
      "cell_type": "markdown",
      "source": [
        "**Что выведет код?**\n",
        "\n",
        "\n",
        "1.   ***1, 9***\n",
        "2.   ***4, 16***\n",
        "3.   ***1, 4***\n",
        "4.   ***4***\n",
        "\n",
        "**Описание работы кода:**\n",
        "Данный код демонстрирует использование списковых включений для создания нового списка, содержащего квадраты четных чисел из исходного списка. Сначала создается список*** my_list ***с четырьмя элементами. Затем используется списковое включение для создания списка ***squared_list***, содержащего квадраты только четных чисел из ***my_list***. В конце программа выводит ***squared_list***."
      ],
      "metadata": {
        "id": "y0UAlYGaBmvR"
      }
    },
    {
      "cell_type": "code",
      "source": [
        "my_list = [1, 2, 3, 4]\n",
        "squared_list = [x**2 for x in my_list if x %2 == 0]\n",
        "print(squared_list)"
      ],
      "metadata": {
        "id": "x8k-Fw3aBvkG"
      },
      "execution_count": null,
      "outputs": []
    },
    {
      "cell_type": "markdown",
      "source": [
        "# Тема урока: Передача аргументов в функции Python."
      ],
      "metadata": {
        "id": "pHcDvlUkaMUD"
      }
    },
    {
      "cell_type": "markdown",
      "source": [
        "**Что выведет код?**\n",
        "\n",
        "\n",
        "1.   ***5 5***\n",
        "2.   ***5 10***\n",
        "3.   ***5 15***\n",
        "4.   ***Ошибку***\n",
        "\n",
        "**Описание работы кода:**\n",
        "Данный код иллюстрирует передачу аргументов в функцию Python и работу с локальными переменными. Функция ***my_function(x)*** принимает аргумент ***x***, увеличивает его значение на ***10*** и возвращает результат. В основной программе переменная ***x*** инициализируется значением ***5***. Затем вызывается функция ***my_function(x)***, результат которой присваивается переменной ***y***. Наконец, на экран выводятся значения переменных ***x*** и ***y***."
      ],
      "metadata": {
        "id": "sk9SCoekCY37"
      }
    },
    {
      "cell_type": "code",
      "source": [
        "def my_function(x):\n",
        "  x += 10\n",
        "  return x\n",
        "x = 5\n",
        "y = my_function(x)\n",
        "print(x, y)"
      ],
      "metadata": {
        "id": "Jh1U_An8Cwvr"
      },
      "execution_count": null,
      "outputs": []
    },
    {
      "cell_type": "markdown",
      "source": [
        "# Тема урока: Списковые включения (List Comprehensions) с условиями в Python."
      ],
      "metadata": {
        "id": "aXDQeVyYbK63"
      }
    },
    {
      "cell_type": "markdown",
      "source": [
        "**Что выведет код?**\n",
        "\n",
        "1.   ***1, 4, 9***\n",
        "2.   ***4, 9, 16, 25***\n",
        "3.   ***1, 9, 25***\n",
        "4.   ***16, 25***\n",
        "5.   ***9, 16, 25***\n",
        "\n",
        "**Описание работы кода:**\n",
        "В данном случае создается список ***numbers*** с пятью элементами. Затем используется списковое включение для создания нового списка ***squared_numbers***, который содержит квадраты только тех чисел из ***numbers***, которые больше ***2***. Затем этот новый список выводится на экран."
      ],
      "metadata": {
        "id": "zoygymIbDpdt"
      }
    },
    {
      "cell_type": "code",
      "source": [
        "numbers = [1, 2, 3, 4, 5]\n",
        "squared_numbers = [x**2 for x in numbers if x > 2]\n",
        "print(squared_numbers)"
      ],
      "metadata": {
        "id": "8IUSssiyEAa3"
      },
      "execution_count": null,
      "outputs": []
    },
    {
      "cell_type": "markdown",
      "source": [
        "# Тема урока: Методы работы со списками в Python: extend()."
      ],
      "metadata": {
        "id": "iD9YXXLMbwKd"
      }
    },
    {
      "cell_type": "markdown",
      "source": [
        "**Что выведет код?**\n",
        "\n",
        "1.   ***1, 2, 3, 4, 5, 6, 7***  \n",
        "2.   ***1, 2, 3, 4***\n",
        "3.   ***None***\n",
        "4.   ***Ошибка***\n",
        "\n",
        "**Описание работы кода:**\n",
        "Данный код демонстрирует использование метода ***extend()*** для объединения двух списков в Python. Сначала создаются два списка ***x*** и ***y***. Затем вызывается метод ***extend()*** для списка ***x***, чтобы объединить его с элементами списка ***y***. Однако следует отметить, что метод ***extend()*** не возвращает новый список; вместо этого он изменяет сам список, к которому он применяется. Таким образом, попытка вывести результат присвоения метода ***extend()*** переменной ***result*** приведет к выводу ***None***.\n",
        "\n"
      ],
      "metadata": {
        "id": "APvO69K0KJlh"
      }
    },
    {
      "cell_type": "code",
      "source": [
        "x = [1, 2, 3, 4]\n",
        "y = [5, 6, 7]\n",
        "result = x.extend(y)\n",
        "print(result)"
      ],
      "metadata": {
        "id": "o6FSTWZ6Kbp7"
      },
      "execution_count": null,
      "outputs": []
    },
    {
      "cell_type": "markdown",
      "source": [
        "# Тема урока: Арифметические действия."
      ],
      "metadata": {
        "id": "vdYgxPRrfzts"
      }
    },
    {
      "cell_type": "markdown",
      "source": [
        "**Что выведет код?**\n",
        "1.   ***12***\n",
        "2.   ***22***\n",
        "3.   ***32***\n",
        "4.   ***42***\n",
        "5.   ***Ошибку***\n",
        "\n",
        "***Объяснение:***\n",
        "Сначала переменная x присваивается значение ***4*** в степени ***3***, что равно ***64***.\n",
        "Затем происходит операция деления ***x*** на ***2***, что равно ***32***.\n",
        "Затем к результату деления прибавляется ***10***, что дает ***42***.\n",
        "Поэтому при выводе результата мы получим ***42***.\n",
        "\n",
        "\n",
        "\n",
        "\n"
      ],
      "metadata": {
        "id": "lJzV8MWyLKrX"
      }
    },
    {
      "cell_type": "code",
      "source": [
        "x = 4**3\n",
        "print(x/2+10)"
      ],
      "metadata": {
        "id": "LGhyvzLzLZdk"
      },
      "execution_count": null,
      "outputs": []
    },
    {
      "cell_type": "markdown",
      "source": [
        "# Тема урока: Работа с ключами и значениями в словарях Python"
      ],
      "metadata": {
        "id": "V1Mu_PeDcuo8"
      }
    },
    {
      "cell_type": "markdown",
      "source": [
        "**Что выведет код?**\n",
        "1.   ***4***\n",
        "2.   ***2***\n",
        "3.   ***1***\n",
        "4.   ***Ошибку***\n",
        "\n",
        "**Описание работы кода:**\n",
        "Данный код демонстрирует работу со словарем в Python. Вначале создается пустой словарь ***a***. Затем в этот словарь добавляются элементы: с ключом **1** и значением 1, с ключом '***1***' и значением ***2***. Затем значение элемента словаря с ключом ***1*** увеличивается на ***1***. В цикле происходит подсчет суммы всех значений в словаре, которая выводится на экран."
      ],
      "metadata": {
        "id": "5k3zXbUdLsho"
      }
    },
    {
      "cell_type": "code",
      "source": [
        "a = {}\n",
        "a[1] = 1\n",
        "a['1'] = 2\n",
        "a[1] = a[1] + 1\n",
        "count = 0\n",
        "for i in a:\n",
        "  count += a[i]\n",
        "print(count)"
      ],
      "metadata": {
        "id": "gOeSVvRhLznw"
      },
      "execution_count": null,
      "outputs": []
    },
    {
      "cell_type": "markdown",
      "source": [
        "# Тема урока: Удаление переменных и объектов в Python."
      ],
      "metadata": {
        "id": "B0iauZOJhEH9"
      }
    },
    {
      "cell_type": "markdown",
      "source": [
        "**Что выведет код?**\n",
        "\n",
        "\n",
        "1.   ***del*** удаляет весь словарь\n",
        "2.   ***del*** не сущесьаует для словаря\n",
        "3.   ***del*** удаляет ключи в словаре\n",
        "4.   ***del*** удаляет значения в словаре"
      ],
      "metadata": {
        "id": "fxOvidepNIGq"
      }
    },
    {
      "cell_type": "code",
      "source": [
        "dictionary = {1:'geek', 2:'for', 3:'geeks'}\n",
        "del dictionary\n",
        "print(dictionary)"
      ],
      "metadata": {
        "id": "1oR5EfQtNixi"
      },
      "execution_count": null,
      "outputs": []
    },
    {
      "cell_type": "markdown",
      "source": [
        "# Тема урока: Проверка наличия ключей в словаре в Python."
      ],
      "metadata": {
        "id": "FxbHoQ5whwhN"
      }
    },
    {
      "cell_type": "markdown",
      "source": [
        "**Что выведет код?**\n",
        "1.   ***10***\n",
        "2.   ***True***\n",
        "3.   ***False***\n",
        "4.   ***Ошибку***\n",
        "\n",
        "**Объяснение:**\n",
        "Код проверяет наличие ключа '***geeks***' в словаре ***dictionary***. Поскольку ключ '***geeks***' присутствует в словаре, условие ***print('geeks' in dictionary)*** будет истинным ***(True)***. Следовательно, код выведет ***True***."
      ],
      "metadata": {
        "id": "QWV5dTQTOWm4"
      }
    },
    {
      "cell_type": "code",
      "source": [
        "dictionary = {'geek':10, 'for':45, 'geeks':90}\n",
        "print('geeks' in dictionary)"
      ],
      "metadata": {
        "id": "ola_JUlmOhYN"
      },
      "execution_count": null,
      "outputs": []
    },
    {
      "cell_type": "markdown",
      "source": [
        "# Тема урока: Условные операторы в Python."
      ],
      "metadata": {
        "id": "edwS3ruTikBf"
      }
    },
    {
      "cell_type": "markdown",
      "source": [
        "***Что выведет код?***\n",
        "\n",
        "1.   ***geeksforgeeks***\n",
        "2.   ***love***\n",
        "3.   ***abhi***\n",
        "4.   ***Ошибку***\n",
        "\n",
        "**Объяснение:**\n",
        "Код содержит условный оператор ***if***, который проверяет два условия:\n",
        "\n",
        "***(7 < 0) and (0 < -7):*** Поскольку ни одно из условий не истинно (***7*** не меньше ***0***, и ***0*** не меньше ***-7***), блок ***if*** не выполнится.\n",
        "***(7 > 0) or False:*** Первое условие истинно (***7*** больше ***0***), поэтому блок ***elif*** будет выполнен. В этом случае будет выведено '***love***'.\n",
        "Если оба условия ложны, программа перейдет к блоку ***else***, но в данном коде этот блок не используется"
      ],
      "metadata": {
        "id": "1EQ6OSY2PHY2"
      }
    },
    {
      "cell_type": "code",
      "source": [
        "if (7 < 0) and (0 < -7):\n",
        "  print('abhi')\n",
        "elif (7 > 0) or False:\n",
        "  print('love')\n",
        "else:\n",
        "  print('geeksforgeeks')"
      ],
      "metadata": {
        "id": "XUJjTDgQPYbx"
      },
      "execution_count": null,
      "outputs": []
    },
    {
      "cell_type": "markdown",
      "source": [
        "# Тема урока: Функция filter() в Python."
      ],
      "metadata": {
        "id": "Fb0pYcTAjf9l"
      }
    },
    {
      "cell_type": "markdown",
      "source": [
        "**Что выведет код?**\n",
        "\n",
        "1.   ***[0, 0]***\n",
        "2.   ***[0, 5, 2, 0, \"gfg\", '',[]]***\n",
        "3.   ***[5, 2, 'gfg']***\n",
        "4.   ***Ошибку***\n",
        "\n",
        "**Объяснение:**\n",
        "Код использует функцию ***filter()*** для удаления ложных ***(False)*** значений из списка ***mylist***. Функция ***bool()*** применяется к каждому элементу списка, и только элементы, для которых ***bool()***возвращает ***True***, остаются в итоговом списке.\n",
        "\n",
        "***[0, 0]***: Оба нулевых значения рассматриваются как ложные, и поэтому они удаляются из списка.\n",
        "***[0, 5, 2, 0, \"gfg\", '',[]]***: Все элементы, кроме нулевых значений, не пустых строк и пустого списка, остаются в списке.\n",
        "***[5, 2, 'gfg']***: Эти элементы остаются в списке, поскольку они не являются ложными значениями.\n"
      ],
      "metadata": {
        "id": "HqOXv_AoQdvR"
      }
    },
    {
      "cell_type": "code",
      "source": [
        "mylist = [0, 5, 2, 0, 'gfg', '', [] ]\n",
        "print(list(filter(bool, mylist)))"
      ],
      "metadata": {
        "id": "PrbW_HSFRBEk"
      },
      "execution_count": null,
      "outputs": []
    },
    {
      "cell_type": "markdown",
      "source": [
        "# Тема урока: Функция filter() в Python."
      ],
      "metadata": {
        "id": "sad1nB30pKrK"
      }
    },
    {
      "cell_type": "markdown",
      "source": [
        "**Что выведет код?**\n",
        "\n",
        "1.   ***{1, 2, 3, 4}***\n",
        "2.   ***{1, 2, 3}***\n",
        "3.   ***Синтаксическая ошибка***\n",
        "4.   ***Ошибка***\n",
        "\n",
        "**Объяснение:**\n",
        "Код использует функцию **filter()** для удаления ложных **(False)** значений из списка **mylis**t. Функция **bool() **применяется к каждому элементу списка, и только элементы, для которых **bool()** возвращает **True**, остаются в итоговом списке."
      ],
      "metadata": {
        "id": "5kL1ESCFU0Vd"
      }
    },
    {
      "cell_type": "code",
      "source": [
        "set1 = {1, 2, 3}\n",
        "set2 = set1.copy()\n",
        "set2.add(4)\n",
        "print(set1)"
      ],
      "metadata": {
        "id": "c09hdmFgVJyu"
      },
      "execution_count": null,
      "outputs": []
    },
    {
      "cell_type": "markdown",
      "source": [
        "# Тема урока: Методы множеств в Python."
      ],
      "metadata": {
        "id": "diryjuZ8qAww"
      }
    },
    {
      "cell_type": "markdown",
      "source": [
        "**Что выведет код?**\n",
        "\n",
        "1.   ***{1, 2, 3, 4, 5}***\n",
        "2.   ***{1, 2, 3, 3, 4, 5}***\n",
        "3.   ***{3, 4, 5, 1, 2, 3}***\n",
        "4.   ***Ошибку***\n",
        "\n",
        "**Объяснение:**\n",
        "\n",
        "***{1, 2, 3, 4, 5}***: Изначально создается множество ***set*** с элементами ***3, 4*** и ***5***. Затем вызывается метод ***update()***, который добавляет элементы из списка ***[1, 2, 3] ***в это множество.\n",
        "***{1, 2, 3, 3, 4, 5}:*** Элементы во множестве хранятся в уникальном порядке, поэтому дубликаты автоматически удаляются.\n",
        "***{3, 4, 5, 1, 2***}: Порядок элементов в множестве не имеет значения, поэтому элементы могут быть выведены в произвольном порядке."
      ],
      "metadata": {
        "id": "uvhQQKrYVn9T"
      }
    },
    {
      "cell_type": "code",
      "source": [
        "my_string = \"geeksforgeeks\"\n",
        "\n",
        "set = {3, 4, 5}\n",
        "set.update([1, 2, 3])\n",
        "print(set)"
      ],
      "metadata": {
        "id": "s0Fh8EWFV1ZQ"
      },
      "execution_count": null,
      "outputs": []
    },
    {
      "cell_type": "markdown",
      "source": [
        "# Тема урока: Циклы в Python."
      ],
      "metadata": {
        "id": "AmSEL6BKrQpW"
      }
    },
    {
      "cell_type": "markdown",
      "source": [
        "**Что выведет код?**\n",
        "\n",
        "1.   ***gaaaaaaaaaaaaa***\n",
        "2.   ***geeksforgeeks a a a a a a a***\n",
        "3.   ***geeksforgeeksa***\n",
        "4.   ***Ошибка***\n",
        "\n",
        "**Объяснение:**\n",
        "Код содержит цикл ***for***, который проходит по длине строки ***my_string***. На каждой итерации выводится содержимое переменной ***my_string***, которая затем изменяется на строку из одного символа '***a***'. Однако изменение строки ***my_string*** не повлияет на текущую итерацию цикла."
      ],
      "metadata": {
        "id": "1keOkhiTXJlV"
      }
    },
    {
      "cell_type": "code",
      "source": [
        "for i in range(len(my_string)):\n",
        "  print(my_string)\n",
        "  my_string = 'a'"
      ],
      "metadata": {
        "id": "PwKTUxnhXkYz"
      },
      "execution_count": null,
      "outputs": []
    },
    {
      "cell_type": "markdown",
      "source": [
        "# Тема урока: Работа с кортежами и строками в Python."
      ],
      "metadata": {
        "id": "S3CSCwuyr7IB"
      }
    },
    {
      "cell_type": "markdown",
      "source": [
        "**Что выведет код?**\n",
        "\n",
        "1.   ***GEEKSFORGEEKS***\n",
        "2.   ***geeksforgeeks***\n",
        "3.   ***geeks***\n",
        "4.   ***Ошибка***\n",
        "\n",
        "**Объяснение:**\n",
        "\n",
        " Изначально создается кортеж ***tuple*** с элементами ***1, 2, 3 ***и ***4***, и переменная ***my_string*** инициализируется строкой \"***geekaforgeeks***\". Затем в цикле ***for*** каждый символ строки приводится к верхнему регистру методом ***upper()***. Однако метод ***upper()*** возвращает измененную строку, а не изменяет исходную. Поскольку измененная строка не сохраняется, исходная строка остается неизменной. Таким образом, код не изменяет регистр символов в строке ***my_string***.\n",
        "\n",
        "***geeksforgeeks:*** Исходная строка ***my_string*** остается без изменений после выполнения цикла.\n"
      ],
      "metadata": {
        "id": "2eeSBxJGYI2X"
      }
    },
    {
      "cell_type": "code",
      "source": [
        "tuple = (1, 2, 3, 4)\n",
        "my_string = \"geekaforgeeks\"\n",
        "for i in range(len(my_string)):\n",
        "  my_string[i].upper()\n",
        "print(my_string)"
      ],
      "metadata": {
        "id": "xe5lZKSZYXaO"
      },
      "execution_count": null,
      "outputs": []
    },
    {
      "cell_type": "markdown",
      "source": [
        "# Тема урока: Циклы в Python."
      ],
      "metadata": {
        "id": "oy4zKugjs_kP"
      }
    },
    {
      "cell_type": "markdown",
      "source": [
        "**Что выведет код?**\n",
        "\n",
        "1.   ***0 1 2 3 ... 12***\n",
        "2.   ***python***\n",
        "3.   ***None***\n",
        "4.   ***Ошибку***\n",
        "\n",
        "**Объяснение:**\n",
        "Код вызывает ошибку типа ***TypeError***. Это происходит потому, что функция ***range()*** ожидает целочисленный аргумент, но передается строка ***my_string***. В результате возникает исключение при попытке итерации по строке. В данном случае цикл ***for*** не может быть выполнен, и программа завершится с ошибкой до того, как будет выведено что-либо на экран.\n",
        "\n"
      ],
      "metadata": {
        "id": "ZL2mYxZAZL8B"
      }
    },
    {
      "cell_type": "code",
      "source": [
        "my_string = 'python'\n",
        "for i in range(my_string):\n",
        "  print(i)"
      ],
      "metadata": {
        "id": "moL463YiZcyo"
      },
      "execution_count": null,
      "outputs": []
    },
    {
      "cell_type": "markdown",
      "source": [
        "# Тема урока: Циклы while в Python."
      ],
      "metadata": {
        "id": "fLt4loUOt3A_"
      }
    },
    {
      "cell_type": "markdown",
      "source": [
        "**Что выведет код?**\n",
        "\n",
        "1.   ***0 1 2 3 0***\n",
        "2.   ***0 1 2 0***\n",
        "3.   ***0 1 2***\n",
        "4.   ***Ошибка***\n",
        "\n",
        "**Объяснение:**\n",
        "В первом случае:\n",
        "Цикл ***while*** выполняется, пока ***i < 3***.\n",
        "На каждой итерации ***i*** выводится на экран.\n",
        "После завершения цикла выводится ***0***.\n",
        "Итак, будет выведено ***0 1 2 3 0***.\n",
        "Во втором случае:\n",
        "Аналогично первому случаю, цикл ***while*** продолжает выполняться, пока ***i < 3***.\n",
        "На последней итерации ***i*** будет равно ***3***, поэтому число ***3*** не будет выведено.\n",
        "После завершения цикла выводится ***0***.\n",
        "Таким образом, будет выведено ***0 1 2 0***.\n",
        "В третьем случае:\n",
        "Цикл ***while*** продолжает выполняться, пока ***i < 3***.\n",
        "После завершения цикла выводится ***0***.\n",
        "Не будет выводиться значения ***i*** на последней итерации, так как цикл завершится при условии ***i < 3***.\n",
        "Будет выведено ***0 1 2***."
      ],
      "metadata": {
        "id": "8ybAH9mv7yGs"
      }
    },
    {
      "cell_type": "code",
      "source": [
        "tuple = (1, 2, 3, 4)\n",
        "i = 0\n",
        "while i < 3:\n",
        "  print(i)\n",
        "  i += 1\n",
        "else:\n",
        "  print(0)"
      ],
      "metadata": {
        "id": "4a6EENiP796m"
      },
      "execution_count": null,
      "outputs": []
    },
    {
      "cell_type": "markdown",
      "source": [
        "# Тема урока: Кортежи."
      ],
      "metadata": {
        "id": "kavnU5JK1yER"
      }
    },
    {
      "cell_type": "markdown",
      "source": [
        "**Что выведет код?**\n",
        "\n",
        "1.   ***1***\n",
        "2.   ***2***\n",
        "3.   ***5***\n",
        "4.   ***Ошибка***\n",
        "\n",
        "**Объяснение:**\n",
        "Данный код вызовет ошибку, так как метод **append()** не применяется к кортежам. Кортежи в Python являются неизменяемыми объектами, поэтому нельзя добавить элементы к кортежу после его создания. Когда вы пытаетесь вызвать метод **append()** для кортежа, возникает ошибка **AttributeError**.\n",
        "\n"
      ],
      "metadata": {
        "id": "GqHnzttJ8lCv"
      }
    },
    {
      "cell_type": "code",
      "source": [
        "tuple.append ((5, 6, 7))\n",
        "print(len(my_tuple))"
      ],
      "metadata": {
        "id": "swsx7Rqo8lC1"
      },
      "execution_count": null,
      "outputs": []
    },
    {
      "cell_type": "markdown",
      "source": [
        "## Тема урока: Множества."
      ],
      "metadata": {
        "id": "BujDhuFN8zv9"
      }
    },
    {
      "cell_type": "markdown",
      "source": [
        "**Что выведет данный код?**\n",
        "\n",
        "1.   ***3***\n",
        "2.   ***6***\n",
        "3.   ***{1, 2, 3}***\n",
        "4.   ***Ошибка***\n",
        "\n",
        "**Объяснение:** В Python оператор **+** не определен для множеств. Попытка использовать оператор **+** для объединения множеств вызовет ошибку. Вместо этого для объединения множеств можно использовать метод ***union()*** или оператор ***|***.\n",
        "\n"
      ],
      "metadata": {
        "id": "qiqjFRjH9Tvv"
      }
    },
    {
      "cell_type": "code",
      "source": [
        "set1 = {1, 2, 3}\n",
        "set2 = {4, 5, 6}\n",
        "print(len(set1 + set2))\n"
      ],
      "metadata": {
        "id": "MC-YMD5S9eHB"
      },
      "execution_count": null,
      "outputs": []
    },
    {
      "cell_type": "markdown",
      "source": [
        "# Тема урока: Метод copy()"
      ],
      "metadata": {
        "id": "lRdwbLT46jdn"
      }
    },
    {
      "cell_type": "markdown",
      "source": [
        "**Что выведет данный код?**\n",
        "\n",
        "1.   ***{1, 2, 3, 4}***\n",
        "2.   ***{1, 2, 3}***\n",
        "3.   ***Недопустимый синтаксис***\n",
        "4.   ***Ошибку***\n",
        "\n",
        "**Объяснение:**\n",
        "\n",
        "Изначально создается множество ***set1*** с элементами ***1, 2*** и ***3***.\n",
        "Затем создается копия этого множества с помощью метода ***copy()*** и присваивается переменной ***set2***.\n",
        "В множество ***set2*** добавляется элемент ***4***.\n",
        "Однако это не влияет на исходное множество ***set1***, так как ***set2*** является копией ***set1***.\n",
        "Поэтому при выводе ***set1*** на экран получаем исходное множество: ***{1, 2, 3}***.\n",
        "\n"
      ],
      "metadata": {
        "id": "5bNIzpT-9-Ac"
      }
    },
    {
      "cell_type": "code",
      "source": [
        "set1 = {1, 2, 3}\n",
        "set2 = set1.copy()\n",
        "set2.add(4)\n",
        "print(set1)"
      ],
      "metadata": {
        "id": "zxb7_ZI--Ncy"
      },
      "execution_count": null,
      "outputs": []
    },
    {
      "cell_type": "markdown",
      "source": [
        "# Тема урока: Цикл while."
      ],
      "metadata": {
        "id": "SopYWdjN7SPB"
      }
    },
    {
      "cell_type": "markdown",
      "source": [
        "**Что выведет данный код?**\n",
        "\n",
        "1.   ***1 2 3***\n",
        "2.   ***1 2***\n",
        "3.   ***Syntax Error***\n",
        "4.   ***None of these***\n",
        "\n",
        "**Объяснение:**\n",
        "\n",
        "Цикл while выполняется бесконечно, так как условие ***True ***всегда истинно.\n",
        "На каждой итерации проверяется условие `if i % 3 == 0`. Когда `i` становится кратным `3`, цикл прерывается с помощью оператора ***break***.\n",
        "Поэтому цикл завершится, когда ***i*** будет равно ***3***, но на экран будут выведены только числа ***1*** и ***2*** до этого момента.\n"
      ],
      "metadata": {
        "id": "5YJBzuFo-hN7"
      }
    },
    {
      "cell_type": "code",
      "source": [
        "i = 1\n",
        "while True:\n",
        "  if i % 3 ==0:\n",
        "    break\n",
        "  print(i)\n",
        "  i += 1"
      ],
      "metadata": {
        "id": "LOmEG09_-wOX"
      },
      "execution_count": null,
      "outputs": []
    },
    {
      "cell_type": "markdown",
      "source": [
        "# Тема урока: Типы данных."
      ],
      "metadata": {
        "id": "xK1QyEDs7wHH"
      }
    },
    {
      "cell_type": "markdown",
      "source": [
        "**Что выведет данный код?**\n",
        "\n",
        "1.   ***False***\n",
        "2.   ***True***\n",
        "3.   ***Error***\n",
        "4.   ***None of these***\n",
        "\n",
        "**Объяснение:**\n",
        "\n",
        "В данном коде переменной True присваивается значение ***False***, что приводит к переопределению встроенного значения ***True***, что является недопустимой операцией.\n",
        "Попытка использования ***True*** в качестве имени переменной вызовет синтаксическую ошибку.\n",
        "Поэтому выполнение кода завершится с ошибкой."
      ],
      "metadata": {
        "id": "IzI_ExuA_Ooq"
      }
    },
    {
      "cell_type": "code",
      "source": [
        "True = False\n",
        "while True:\n",
        "  print(True)\n",
        "  break"
      ],
      "metadata": {
        "id": "DTLnc6gk_aRO"
      },
      "execution_count": null,
      "outputs": []
    },
    {
      "cell_type": "markdown",
      "source": [
        "# Тема урока: Метод upper()."
      ],
      "metadata": {
        "id": "2RGYqzH799Yu"
      }
    },
    {
      "cell_type": "markdown",
      "source": [
        "**Что выведет данный код?**\n",
        "\n",
        "1.   ***['GEEKS', \"FORGEEKS\"]***\n",
        "2.   ***['geeks', 'forgeeks']***\n",
        "3.   ***[None, None]***\n",
        "4.   ***Unexpected***\n",
        "\n",
        "Объяснение:\n",
        "\n",
        "В цикле ***for*** переменная ***i*** принимает значения элементов списка ***mylist***.\n",
        "Метод upper() применяется к каждому элементу списка, чтобы преобразовать его к верхнему регистру. Однако метод upper() возвращает измененную строку, а не изменяет исходную.\n",
        "В коде измененные строки не сохраняются в списке mylist, поэтому после выполнения цикла список mylist остается неизменным.\n",
        "Таким образом, код выведет исходный список ['geeks', 'forgeeks']."
      ],
      "metadata": {
        "id": "1vNM5Vt3_sNe"
      }
    },
    {
      "cell_type": "code",
      "source": [
        "mylist = ['geeks', 'forgeeks']\n",
        "for i in mylist:\n",
        "  i.upper()\n",
        "print(mylist)"
      ],
      "metadata": {
        "id": "IJehhLl-AD3O"
      },
      "execution_count": null,
      "outputs": []
    },
    {
      "cell_type": "markdown",
      "source": [
        "# Тема урока: Тип данных: bool"
      ],
      "metadata": {
        "id": "AuuUujxU-2k3"
      }
    },
    {
      "cell_type": "markdown",
      "source": [
        "**Что выведет данный код?**\n",
        "1.   ***love***\n",
        "2.   ***python***\n",
        "3.   ***gfg***\n",
        "4.   ***None***\n",
        "\n",
        "**Объяснение:**\n",
        "\n",
        "`bool('gfg')` возвращает ***True***, потому что непустая строка считается истиной в Python.\n",
        "Следовательно, выражение `['love', 'python'][bool('gfg')] `эквивалентно `['love', 'python'][True]`.\n",
        "Поскольку индексация в списках начинается с ***0***, элемент с индексом ***1*** будет выбран.\n",
        "Элемент `'python'` имеет индекс ***1*** в списке `['love', 'python']`, поэтому он будет выведен."
      ],
      "metadata": {
        "id": "j8d2QUwOAi8U"
      }
    },
    {
      "cell_type": "code",
      "source": [
        "print(['love', 'python'][bool('gfg')])"
      ],
      "metadata": {
        "id": "JocnENYfA-Vp"
      },
      "execution_count": null,
      "outputs": []
    },
    {
      "cell_type": "markdown",
      "source": [
        "# Тема урока: Операции индексации и использование выражений в списках Python."
      ],
      "metadata": {
        "id": "rsoUuAlKAvcq"
      }
    },
    {
      "cell_type": "markdown",
      "source": [
        "**Что выведет данный код?**\n",
        "1.   ***Unexpected***\n",
        "2.   ***(3Check)***\n",
        "3.   ***CheckCheckCheck***\n",
        "4.   ***Syntax Error***\n",
        "\n",
        "**Объяснение:**\n",
        "\n",
        "В данном коде выводится строка `'Check' `три раза.\n",
        "Это происходит потому, что выражение `'Check' * 3` умножает строку `'Check'` на ***3***, что приводит к конкатенации этой строки с самой собой три раза."
      ],
      "metadata": {
        "id": "DPIVqYjuB5eE"
      }
    },
    {
      "cell_type": "code",
      "source": [
        "tuple = (\"Check\")*3\n",
        "print(tuple)"
      ],
      "metadata": {
        "id": "MdG0z8K1CMA-"
      },
      "execution_count": null,
      "outputs": []
    },
    {
      "cell_type": "markdown",
      "source": [
        "# Тема урока: Сравнение кортежей в Python."
      ],
      "metadata": {
        "id": "9jqJMUmFB5L_"
      }
    },
    {
      "cell_type": "markdown",
      "source": [
        "**Что выведет данный код?**\n",
        "1.   ***True***\n",
        "2.   ***False***\n",
        "3.   ***Ошибку***\n",
        "4.   ***Unexpected***\n",
        "**Объяснение:**\n",
        "\n",
        "В Python сравнение кортежей происходит лексикографически, то есть поэлементно.\n",
        "Когда сравниваются два кортежа, Python сначала сравнивает их первые элементы. Если они равны, то переходит ко вторым элементам и так далее.\n",
        "В данном случае, первые два элемента кортежей одинаковы (***1*** и ***2***), а третий элемент в ***tuple1 (4)*** больше, чем в ***tuple2 (3)***.\n",
        "Следовательно, кортеж ***tuple1*** больше, чем ***tuple2***.\n",
        "Поэтому выражение `tuple1 < tuple2` возвращает ***False.***\n"
      ],
      "metadata": {
        "id": "KwE0L5L1CbEy"
      }
    },
    {
      "cell_type": "code",
      "source": [
        "tuple1 = (1, 2, 4, 3)\n",
        "tuple2 = (1, 2, 3, 4)\n",
        "print(tuple1 < tuple2)"
      ],
      "metadata": {
        "id": "wXti6AiuCnv4"
      },
      "execution_count": null,
      "outputs": []
    },
    {
      "cell_type": "markdown",
      "source": [
        "# Тема урока: Работа с словарями в Python."
      ],
      "metadata": {
        "id": "1RGDGLpsCv-M"
      }
    },
    {
      "cell_type": "markdown",
      "source": [
        "**Что выведет данный код?**\n",
        "1.   ***34***\n",
        "2.   ***12***\n",
        "3.   ***31***\n",
        "4.   ***33***\n",
        "\n",
        "**Объяснение:**\n",
        "\n",
        "Изначально создается пустой словарь ***tuple***.\n",
        "Затем в этот словарь добавляются три элемента:\n",
        "`(1, 2, 4)` с ключом ***8***,\n",
        "`(4, 2, 1)` с ключом ***10***,\n",
        "`(1, 2)` с ключом ***12***.\n",
        "В цикле ***for*** происходит итерация по ключам словаря ***tuple***.\n",
        "В каждой итерации значение, соответствующее текущему ключу, добавляется к переменной ***_sum***.\n",
        "Итак, значение _sum после выполнения цикла будет равно сумме значений всех элементов словаря: ***8 + 10 + 12 = 30***.\n",
        "Длина словаря ***tuple*** равна количеству его элементов, то есть ***3***.\n",
        "После этого сумма длины словаря и переменной ***_sum*** выводится на экран: **3 + 30 = 33**."
      ],
      "metadata": {
        "id": "Ht_Zyq17DE1N"
      }
    },
    {
      "cell_type": "code",
      "source": [
        "tuple = {}\n",
        "tuple[(1, 2, 4)] = 8\n",
        "tuple[(4, 2, 1)] = 10\n",
        "tuple[(1, 2)] = 12\n",
        "_sum = 0\n",
        "for k in tuple:\n",
        "  _sum += tuple[k]\n",
        "print(len(tuple) + _sum)"
      ],
      "metadata": {
        "id": "jUwcF8a-DLr4"
      },
      "execution_count": null,
      "outputs": []
    },
    {
      "cell_type": "markdown",
      "source": [
        "# Тема урока: Операции с кортежами в Python."
      ],
      "metadata": {
        "id": "aB4gVYbqDenr"
      }
    },
    {
      "cell_type": "markdown",
      "source": [
        "**Что выведет данный код?**\n",
        "1.   ***1***\n",
        "2.   ***2***\n",
        "3.   ***5***\n",
        "4.   ***Ошибку***\n",
        "\n",
        "**Объяснение:**\n",
        "\n",
        "В данном коде будет вызвана ошибка, так как кортежи в Python являются неизменяемыми структурами данных, и поэтому они не поддерживают метод ***append()***, который используется для добавления элементов.\n",
        "Попытка вызвать метод ***append()*** для кортежа приведет к ошибке выполнения."
      ],
      "metadata": {
        "id": "9zHnKamFS2Jg"
      }
    },
    {
      "cell_type": "code",
      "source": [
        "tuple = (1, 2, 3, 4)\n",
        "tuple.append((5, 6, 7))\n",
        "print(len(my_tuple))"
      ],
      "metadata": {
        "id": "HnUQonu9TDIx"
      },
      "execution_count": null,
      "outputs": []
    },
    {
      "cell_type": "markdown",
      "source": [
        "# Тема урока: Передача аргументов в функцию в Python (по значению и по ссылке)."
      ],
      "metadata": {
        "id": "DztILhYKD8rV"
      }
    },
    {
      "cell_type": "markdown",
      "source": [
        "**Что выведет данный код?**\n",
        "1.   ***1 1***\n",
        "2.   ***1 44***\n",
        "3.   ***3 1***\n",
        "4.   ***3 44***\n",
        "5.   ***Ошибку***\n",
        "\n",
        "**Объяснение:**\n",
        "\n",
        "Функция ***f*** принимает два аргумента: ***value*** и ***values***.\n",
        "Внутри функции переменной v присваивается значение ***1***.\n",
        "Первый элемент списка ***values*** изменяется на ***44*** (значение аргумента ***t*** не изменяется, так как передается по значению, а не по ссылке).\n",
        "В основной программе переменная ***t*** остается равной ***3***, а первый элемент списка v изменяется на ***44***.\n",
        "Поэтому при выводе будет отображено ***3 44***.\n",
        "\n",
        "\n"
      ],
      "metadata": {
        "id": "LBvy6cNjTkxG"
      }
    },
    {
      "cell_type": "code",
      "source": [
        "def f(value, values):\n",
        "  v = 1\n",
        "  values[0] = 44\n",
        "t = 3\n",
        "v = [1, 2, 3]\n",
        "f(t, v)\n",
        "print(t, v[0])"
      ],
      "metadata": {
        "id": "ewaGS5fRT41P"
      },
      "execution_count": null,
      "outputs": []
    }
  ]
}